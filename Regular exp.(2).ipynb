{
 "cells": [
  {
   "cell_type": "code",
   "execution_count": 2,
   "id": "728a0ae6",
   "metadata": {},
   "outputs": [],
   "source": [
    "import regex as re"
   ]
  },
  {
   "cell_type": "markdown",
   "id": "0e3ed036",
   "metadata": {},
   "source": [
    "# Regular expression practice answers "
   ]
  },
  {
   "cell_type": "code",
   "execution_count": null,
   "id": "18d8af2f",
   "metadata": {},
   "outputs": [],
   "source": [
    "Ans.1"
   ]
  },
  {
   "cell_type": "code",
   "execution_count": 3,
   "id": "1e66a934",
   "metadata": {},
   "outputs": [
    {
     "name": "stdout",
     "output_type": "stream",
     "text": [
      "['y', 'n', 'a', 'm', 'e', 'i', 's', 'u', 'r', 'a', 'j', 'r', 'u', 'n', 'b', 'h', 'a', 'i', 'h', 'i', 'n', 'd', 'e', 'a', 'n', 'd', 'i', 'l', 'i', 'v', 'e', 'i', 'n', 'n', 'a', 'v', 's', 'a', 'r', 'i', 'a', 'n', 'd', 'm', 'y', 'c', 'o', 'u', 'n', 't', 'r', 'y', 'i', 's', 'i', 'n', 'd', 'i', 'a']\n"
     ]
    }
   ],
   "source": [
    "string1=\"My name is Suraj Arunbhai Shinde and i live in navsari and my country is india\"\n",
    "\n",
    "x=re.findall(\"[a-z]\",string1)\n",
    "\n",
    "print(x)"
   ]
  },
  {
   "cell_type": "code",
   "execution_count": null,
   "id": "52c23372",
   "metadata": {},
   "outputs": [],
   "source": [
    "Ans.8"
   ]
  },
  {
   "cell_type": "code",
   "execution_count": 14,
   "id": "4e5e7863",
   "metadata": {},
   "outputs": [
    {
     "name": "stdout",
     "output_type": "stream",
     "text": [
      "['Mahendra']\n"
     ]
    }
   ],
   "source": [
    "pattern=\"Mahendra\"\n",
    "\n",
    "\n",
    "string=\"Mahendra Brothers company is near my house\"\n",
    "\n",
    "\n",
    "matches= re.findall(pattern, string)\n",
    "\n",
    "print(matches)"
   ]
  },
  {
   "cell_type": "code",
   "execution_count": null,
   "id": "97935ccb",
   "metadata": {},
   "outputs": [],
   "source": [
    "Ans.9"
   ]
  },
  {
   "cell_type": "code",
   "execution_count": 15,
   "id": "11640789",
   "metadata": {},
   "outputs": [
    {
     "name": "stdout",
     "output_type": "stream",
     "text": [
      "['house']\n"
     ]
    }
   ],
   "source": [
    "pattern=\"house\"\n",
    "\n",
    "\n",
    "string=\"Mahendra Brothers company is near my house\"\n",
    "\n",
    "\n",
    "matches= re.findall(pattern, string)\n",
    "\n",
    "print(matches)"
   ]
  },
  {
   "cell_type": "code",
   "execution_count": null,
   "id": "4997ba8e",
   "metadata": {},
   "outputs": [],
   "source": [
    "Ans.6"
   ]
  },
  {
   "cell_type": "code",
   "execution_count": 16,
   "id": "c0887fc6",
   "metadata": {},
   "outputs": [
    {
     "name": "stdout",
     "output_type": "stream",
     "text": [
      "['bbb']\n"
     ]
    }
   ],
   "source": [
    "pattern=\"bbb\"\n",
    "\n",
    "string=\"The Bus no is bbbsdgk1\"\n",
    "\n",
    "matches= re.findall(pattern, string)\n",
    "\n",
    "print(matches)"
   ]
  },
  {
   "cell_type": "code",
   "execution_count": null,
   "id": "55ba08b1",
   "metadata": {},
   "outputs": [],
   "source": [
    "Ans.7"
   ]
  },
  {
   "cell_type": "code",
   "execution_count": 17,
   "id": "8a404a37",
   "metadata": {},
   "outputs": [
    {
     "name": "stdout",
     "output_type": "stream",
     "text": [
      "['a19012b']\n"
     ]
    }
   ],
   "source": [
    "pattern=\"a19012b\"\n",
    "\n",
    "string=\"my flight ticket no is a19012b\"\n",
    "\n",
    "matches= re.findall(pattern, string)\n",
    "\n",
    "print(matches)"
   ]
  },
  {
   "cell_type": "code",
   "execution_count": null,
   "id": "8c8190d5",
   "metadata": {},
   "outputs": [],
   "source": [
    "Ans.2"
   ]
  },
  {
   "cell_type": "code",
   "execution_count": 18,
   "id": "c899cda7",
   "metadata": {},
   "outputs": [
    {
     "name": "stdout",
     "output_type": "stream",
     "text": [
      "['0102bb']\n"
     ]
    }
   ],
   "source": [
    "pattern=\"0102bb\"\n",
    "\n",
    "string=\"my hotel room no is 0102bb\"\n",
    "\n",
    "matches= re.findall(pattern, string)\n",
    "\n",
    "print(matches)"
   ]
  },
  {
   "cell_type": "code",
   "execution_count": null,
   "id": "1e12e661",
   "metadata": {},
   "outputs": [],
   "source": [
    "Ans.3"
   ]
  },
  {
   "cell_type": "code",
   "execution_count": 19,
   "id": "b67d1be5",
   "metadata": {},
   "outputs": [
    {
     "name": "stdout",
     "output_type": "stream",
     "text": [
      "['1bbbasd']\n"
     ]
    }
   ],
   "source": [
    "pattern=\"1bbbasd\"\n",
    "\n",
    "string=\"my GST no is 1bbbasd \"\n",
    "\n",
    "matches= re.findall(pattern, string)\n",
    "\n",
    "print(matches)"
   ]
  },
  {
   "cell_type": "code",
   "execution_count": null,
   "id": "767d936e",
   "metadata": {},
   "outputs": [],
   "source": [
    "Ans.4"
   ]
  },
  {
   "cell_type": "code",
   "execution_count": 21,
   "id": "9807eac9",
   "metadata": {},
   "outputs": [
    {
     "name": "stdout",
     "output_type": "stream",
     "text": [
      "['0201b']\n"
     ]
    }
   ],
   "source": [
    "pattern=\"0201b\"\n",
    "\n",
    "string=\"my house no is 0201b \"\n",
    "\n",
    "matches= re.findall(pattern, string)\n",
    "\n",
    "print(matches)"
   ]
  },
  {
   "cell_type": "markdown",
   "id": "53d14eb2",
   "metadata": {},
   "source": [
    "# MCQ Answers"
   ]
  },
  {
   "cell_type": "code",
   "execution_count": null,
   "id": "06598b25",
   "metadata": {},
   "outputs": [],
   "source": [
    "Ans.3 a"
   ]
  },
  {
   "cell_type": "code",
   "execution_count": null,
   "id": "f865657a",
   "metadata": {},
   "outputs": [],
   "source": [
    "Ans.4 d"
   ]
  },
  {
   "cell_type": "code",
   "execution_count": null,
   "id": "c846a7f5",
   "metadata": {},
   "outputs": [],
   "source": [
    "Ans.5 a"
   ]
  },
  {
   "cell_type": "code",
   "execution_count": null,
   "id": "742b4c27",
   "metadata": {},
   "outputs": [],
   "source": [
    "Ans.6 a"
   ]
  },
  {
   "cell_type": "code",
   "execution_count": null,
   "id": "7af52015",
   "metadata": {},
   "outputs": [],
   "source": [
    "Ans.8 a"
   ]
  },
  {
   "cell_type": "code",
   "execution_count": null,
   "id": "b0885a54",
   "metadata": {},
   "outputs": [],
   "source": [
    "Ans.9 b"
   ]
  },
  {
   "cell_type": "code",
   "execution_count": null,
   "id": "df46e564",
   "metadata": {},
   "outputs": [],
   "source": [
    "Ans.10 a"
   ]
  },
  {
   "cell_type": "code",
   "execution_count": null,
   "id": "be1eb261",
   "metadata": {},
   "outputs": [],
   "source": [
    "Ans.11 c"
   ]
  },
  {
   "cell_type": "code",
   "execution_count": null,
   "id": "897d1316",
   "metadata": {},
   "outputs": [],
   "source": [
    "Ans.12 c"
   ]
  },
  {
   "cell_type": "code",
   "execution_count": null,
   "id": "7156d045",
   "metadata": {},
   "outputs": [],
   "source": [
    "Ans.13 b"
   ]
  },
  {
   "cell_type": "code",
   "execution_count": null,
   "id": "9199b228",
   "metadata": {},
   "outputs": [],
   "source": [
    "Ans.14 a"
   ]
  },
  {
   "cell_type": "code",
   "execution_count": null,
   "id": "7d533b6f",
   "metadata": {},
   "outputs": [],
   "source": [
    "Ans.15 d"
   ]
  },
  {
   "cell_type": "code",
   "execution_count": null,
   "id": "2208b947",
   "metadata": {},
   "outputs": [],
   "source": []
  },
  {
   "cell_type": "code",
   "execution_count": null,
   "id": "6c0236b2",
   "metadata": {},
   "outputs": [],
   "source": []
  },
  {
   "cell_type": "code",
   "execution_count": null,
   "id": "e072469a",
   "metadata": {},
   "outputs": [],
   "source": []
  },
  {
   "cell_type": "code",
   "execution_count": null,
   "id": "1327524a",
   "metadata": {},
   "outputs": [],
   "source": []
  },
  {
   "cell_type": "code",
   "execution_count": null,
   "id": "8e593369",
   "metadata": {},
   "outputs": [],
   "source": []
  },
  {
   "cell_type": "code",
   "execution_count": null,
   "id": "f1d43aa6",
   "metadata": {},
   "outputs": [],
   "source": []
  },
  {
   "cell_type": "code",
   "execution_count": null,
   "id": "766af72f",
   "metadata": {},
   "outputs": [],
   "source": []
  },
  {
   "cell_type": "code",
   "execution_count": null,
   "id": "e50445bc",
   "metadata": {},
   "outputs": [],
   "source": []
  },
  {
   "cell_type": "code",
   "execution_count": null,
   "id": "9726b6f7",
   "metadata": {},
   "outputs": [],
   "source": []
  },
  {
   "cell_type": "code",
   "execution_count": null,
   "id": "ffd2cbd5",
   "metadata": {},
   "outputs": [],
   "source": []
  },
  {
   "cell_type": "code",
   "execution_count": null,
   "id": "b0e0225e",
   "metadata": {},
   "outputs": [],
   "source": []
  },
  {
   "cell_type": "code",
   "execution_count": null,
   "id": "2900079f",
   "metadata": {},
   "outputs": [],
   "source": []
  },
  {
   "cell_type": "code",
   "execution_count": null,
   "id": "eb2ef459",
   "metadata": {},
   "outputs": [],
   "source": []
  },
  {
   "cell_type": "code",
   "execution_count": null,
   "id": "b0862607",
   "metadata": {},
   "outputs": [],
   "source": []
  },
  {
   "cell_type": "code",
   "execution_count": null,
   "id": "ef3b683f",
   "metadata": {},
   "outputs": [],
   "source": []
  },
  {
   "cell_type": "code",
   "execution_count": null,
   "id": "02b7c990",
   "metadata": {},
   "outputs": [],
   "source": []
  },
  {
   "cell_type": "code",
   "execution_count": null,
   "id": "a2731863",
   "metadata": {},
   "outputs": [],
   "source": []
  },
  {
   "cell_type": "code",
   "execution_count": null,
   "id": "ea78d81c",
   "metadata": {},
   "outputs": [],
   "source": []
  },
  {
   "cell_type": "code",
   "execution_count": null,
   "id": "3e709f64",
   "metadata": {},
   "outputs": [],
   "source": []
  },
  {
   "cell_type": "code",
   "execution_count": null,
   "id": "ec43f079",
   "metadata": {},
   "outputs": [],
   "source": []
  },
  {
   "cell_type": "code",
   "execution_count": null,
   "id": "dcb331c9",
   "metadata": {},
   "outputs": [],
   "source": []
  },
  {
   "cell_type": "code",
   "execution_count": null,
   "id": "228f1ba9",
   "metadata": {},
   "outputs": [],
   "source": []
  },
  {
   "cell_type": "code",
   "execution_count": null,
   "id": "6e4011ee",
   "metadata": {},
   "outputs": [],
   "source": []
  },
  {
   "cell_type": "code",
   "execution_count": null,
   "id": "3bcd2b5b",
   "metadata": {},
   "outputs": [],
   "source": []
  }
 ],
 "metadata": {
  "kernelspec": {
   "display_name": "Python 3 (ipykernel)",
   "language": "python",
   "name": "python3"
  },
  "language_info": {
   "codemirror_mode": {
    "name": "ipython",
    "version": 3
   },
   "file_extension": ".py",
   "mimetype": "text/x-python",
   "name": "python",
   "nbconvert_exporter": "python",
   "pygments_lexer": "ipython3",
   "version": "3.11.5"
  }
 },
 "nbformat": 4,
 "nbformat_minor": 5
}
